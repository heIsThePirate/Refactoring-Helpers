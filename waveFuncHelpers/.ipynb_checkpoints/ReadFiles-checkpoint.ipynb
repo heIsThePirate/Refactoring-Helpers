{
 "cells": [
  {
   "cell_type": "code",
   "execution_count": 1,
   "metadata": {},
   "outputs": [],
   "source": [
    "import numpy as np\n",
    "import pandas as pd\n",
    "import matplotlib.pyplot as plt\n",
    "from math import pi\n",
    "%matplotlib inline"
   ]
  },
  {
   "cell_type": "code",
   "execution_count": 2,
   "metadata": {},
   "outputs": [
    {
     "data": {
      "image/png": "[encoded data removed]",
      "text/plain": [
       "<Figure size 432x288 with 1 Axes>"
      ]
     },
     "metadata": {
      "needs_background": "light"
     },
     "output_type": "display_data"
    }
   ],
   "source": [
    "N = 256\n",
    "\n",
    "data_1 = pd.read_csv('datasetFiles/data0p1.txt', header=None, sep=' ')\n",
    "data_2 = pd.read_csv('datasetFiles/data0p2.txt', header=None, sep=' ')\n",
    "data_3 = pd.read_csv('datasetFiles/data0p3.txt', header=None, sep=' ')\n",
    "data_4 = pd.read_csv('datasetFiles/data0p4.txt', header=None, sep=' ')\n",
    "\n",
    "image_data = pd.concat([data_1, data_2, data_3, data_4], axis=0) # Stacking the dataframes\n",
    "\n",
    "image_data['magnitude'] = np.sqrt(image_data[0]**2 + image_data[1]**2) # Adding a column for 'density'\n",
    "image_data['phase'] = np.arctan(image_data[1]/image_data[0]) # Adding a column for 'phase'\n",
    "\n",
    "image_array = np.array(image_data['magnitude'])\n",
    "\n",
    "image_array = image_array.reshape((N, N), order='F') # Using 'Fortran' order to reshape the arrays\n",
    "\n",
    "x = np.arange(0, 2*pi, 2*pi/N)\n",
    "y = np.arange(0, 2*pi, 2*pi/N)\n",
    "\n",
    "plt.pcolor(x, y, image_array, cmap='jet');"
   ]
  },
  {
   "cell_type": "code",
   "execution_count": 3,
   "metadata": {},
   "outputs": [
    {
     "data": {
      "text/html": [
       "<div>\n",
       "<style scoped>\n",
       "    .dataframe tbody tr th:only-of-type {\n",
       "        vertical-align: middle;\n",
       "    }\n",
       "\n",
       "    .dataframe tbody tr th {\n",
       "        vertical-align: top;\n",
       "    }\n",
       "\n",
       "    .dataframe thead th {\n",
       "        text-align: right;\n",
       "    }\n",
       "</style>\n",
       "<table border=\"1\" class=\"dataframe\">\n",
       "  <thead>\n",
       "    <tr style=\"text-align: right;\">\n",
       "      <th></th>\n",
       "      <th>0</th>\n",
       "      <th>1</th>\n",
       "      <th>magnitude</th>\n",
       "      <th>phase</th>\n",
       "    </tr>\n",
       "  </thead>\n",
       "  <tbody>\n",
       "    <tr>\n",
       "      <th>0</th>\n",
       "      <td>-0.999315</td>\n",
       "      <td>-1.565742e-15</td>\n",
       "      <td>0.999315</td>\n",
       "      <td>1.566814e-15</td>\n",
       "    </tr>\n",
       "    <tr>\n",
       "      <th>1</th>\n",
       "      <td>-0.999859</td>\n",
       "      <td>-6.779758e-03</td>\n",
       "      <td>0.999882</td>\n",
       "      <td>6.780608e-03</td>\n",
       "    </tr>\n",
       "    <tr>\n",
       "      <th>2</th>\n",
       "      <td>-1.000019</td>\n",
       "      <td>-2.713351e-02</td>\n",
       "      <td>1.000387</td>\n",
       "      <td>2.712633e-02</td>\n",
       "    </tr>\n",
       "    <tr>\n",
       "      <th>3</th>\n",
       "      <td>-0.998133</td>\n",
       "      <td>-6.099517e-02</td>\n",
       "      <td>0.999995</td>\n",
       "      <td>6.103336e-02</td>\n",
       "    </tr>\n",
       "    <tr>\n",
       "      <th>4</th>\n",
       "      <td>-0.993968</td>\n",
       "      <td>-1.082662e-01</td>\n",
       "      <td>0.999847</td>\n",
       "      <td>1.084955e-01</td>\n",
       "    </tr>\n",
       "    <tr>\n",
       "      <th>...</th>\n",
       "      <td>...</td>\n",
       "      <td>...</td>\n",
       "      <td>...</td>\n",
       "      <td>...</td>\n",
       "    </tr>\n",
       "    <tr>\n",
       "      <th>16379</th>\n",
       "      <td>-0.986728</td>\n",
       "      <td>-1.620109e-01</td>\n",
       "      <td>0.999939</td>\n",
       "      <td>1.627381e-01</td>\n",
       "    </tr>\n",
       "    <tr>\n",
       "      <th>16380</th>\n",
       "      <td>-0.994566</td>\n",
       "      <td>-1.015110e-01</td>\n",
       "      <td>0.999733</td>\n",
       "      <td>1.017134e-01</td>\n",
       "    </tr>\n",
       "    <tr>\n",
       "      <th>16381</th>\n",
       "      <td>-0.998258</td>\n",
       "      <td>-5.420907e-02</td>\n",
       "      <td>0.999729</td>\n",
       "      <td>5.425037e-02</td>\n",
       "    </tr>\n",
       "    <tr>\n",
       "      <th>16382</th>\n",
       "      <td>-0.999870</td>\n",
       "      <td>-2.034444e-02</td>\n",
       "      <td>1.000077</td>\n",
       "      <td>2.034427e-02</td>\n",
       "    </tr>\n",
       "    <tr>\n",
       "      <th>16383</th>\n",
       "      <td>-1.000064</td>\n",
       "      <td>1.744953e-07</td>\n",
       "      <td>1.000064</td>\n",
       "      <td>-1.744842e-07</td>\n",
       "    </tr>\n",
       "  </tbody>\n",
       "</table>\n",
       "<p>65536 rows × 4 columns</p>\n",
       "</div>"
      ],
      "text/plain": [
       "              0             1  magnitude         phase\n",
       "0     -0.999315 -1.565742e-15   0.999315  1.566814e-15\n",
       "1     -0.999859 -6.779758e-03   0.999882  6.780608e-03\n",
       "2     -1.000019 -2.713351e-02   1.000387  2.712633e-02\n",
       "3     -0.998133 -6.099517e-02   0.999995  6.103336e-02\n",
       "4     -0.993968 -1.082662e-01   0.999847  1.084955e-01\n",
       "...         ...           ...        ...           ...\n",
       "16379 -0.986728 -1.620109e-01   0.999939  1.627381e-01\n",
       "16380 -0.994566 -1.015110e-01   0.999733  1.017134e-01\n",
       "16381 -0.998258 -5.420907e-02   0.999729  5.425037e-02\n",
       "16382 -0.999870 -2.034444e-02   1.000077  2.034427e-02\n",
       "16383 -1.000064  1.744953e-07   1.000064 -1.744842e-07\n",
       "\n",
       "[65536 rows x 4 columns]"
      ]
     },
     "execution_count": 3,
     "metadata": {},
     "output_type": "execute_result"
    }
   ],
   "source": [
    "image_data"
   ]
  },
  {
   "cell_type": "code",
   "execution_count": null,
   "metadata": {},
   "outputs": [],
   "source": []
  }
 ],
 "metadata": {
  "kernelspec": {
   "display_name": "env",
   "language": "python",
   "name": "env"
  },
  "language_info": {
   "codemirror_mode": {
    "name": "ipython",
    "version": 3
   },
   "file_extension": ".py",
   "mimetype": "text/x-python",
   "name": "python",
   "nbconvert_exporter": "python",
   "pygments_lexer": "ipython3",
   "version": "3.7.6"
  }
 },
 "nbformat": 4,
 "nbformat_minor": 4
}
